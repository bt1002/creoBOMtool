{
 "cells": [
  {
   "cell_type": "code",
   "execution_count": 57,
   "metadata": {},
   "outputs": [
    {
     "name": "stdout",
     "output_type": "stream",
     "text": [
      "[[ True False]\n",
      " [ True  True]]\n"
     ]
    }
   ],
   "source": [
    "import numpy as np\n",
    "import copy\n",
    "\n",
    "an_array = np.array([[1, 3], [3, 4]])\n",
    "another_array = np.array([[1, 2], [3, 4]])\n",
    "\n",
    "comparison = an_array == another_array\n",
    "equal_arrays = comparison.all()\n",
    "\n",
    "print(comparison)\n"
   ]
  },
  {
   "cell_type": "code",
   "execution_count": 59,
   "metadata": {},
   "outputs": [],
   "source": [
    "data = [[100, 'Part', 'RIVET-60H453032-032'],\n",
    " [4356, 'Part', 'RIVET-60H453232A021'],\n",
    " [16, 'Part', 'RIVET-60H453232A052'],\n",
    " [1, 'Part', 'RM7922000201-126-GPU-TRAY-BASE'],\n",
    " [289, 'Part', 'RM7922000201-126-S01'],\n",
    " [1, 'Part', 'RM7922000201-126-S02'],\n",
    " [2, 'Part', 'RM7922000201-404-GPU-BAR-HOLD']]\n",
    "\n",
    "data_cp = copy.deepcopy(data)\n",
    "data_cp[-1][0] = 5\n",
    "\n",
    "np_data = np.array(data)\n",
    "np_data_cp = np.array(data_cp)\n"
   ]
  },
  {
   "cell_type": "code",
   "execution_count": 60,
   "metadata": {},
   "outputs": [
    {
     "name": "stdout",
     "output_type": "stream",
     "text": [
      "[[ True  True  True]\n",
      " [ True  True  True]\n",
      " [ True  True  True]\n",
      " [ True  True  True]\n",
      " [ True  True  True]\n",
      " [ True  True  True]\n",
      " [False  True  True]]\n"
     ]
    }
   ],
   "source": [
    "validation = np_data == np_data_cp\n",
    "print(validation)"
   ]
  },
  {
   "cell_type": "code",
   "execution_count": 12,
   "metadata": {},
   "outputs": [
    {
     "name": "stdout",
     "output_type": "stream",
     "text": [
      "[ 20  48  39 100]\n",
      "[71 45  1 21]\n"
     ]
    }
   ],
   "source": [
    "from numpy import *\n",
    "NumpyData = asarray([[20, 48, 39, 100],[71, 45, 1, 21]])\n",
    "for i in NumpyData:\n",
    "    print(i)\n",
    "\n",
    "with open('unmerged_mergedBOM.txt', 'w') as fileObject:\n",
    "    for i in NumpyData:\n",
    "        fileObject.write(f'{str(i)}+\"\\n\"')\n",
    "        fileObject.write(f'{str(i[0]).rjust(3,\"*\")}+\"\\n\"')\n"
   ]
  },
  {
   "cell_type": "code",
   "execution_count": 17,
   "metadata": {},
   "outputs": [
    {
     "name": "stdout",
     "output_type": "stream",
     "text": [
      "['16       Part     RIVET-60H453232A021\\n', '2        Part     RIVET-60H453232A021\\n', '16       Part     RIVET-60H453232A021\\n', '8        Part     RIVET-60H453232A021\\n', '4        Part     RIVET-60H453232A021\\n', '3        Part     RIVET-60H453232A021\\n', '8        Part     RIVET-60H453232A021\\n', '14       Part     RIVET-60H453232A021\\n', '4        Part     RIVET-60H453232A021\\n', '364      Part     RIVET-60H453232A021\\n', '16       Part     RIVET-60H453232A021\\n', '4        Part     RIVET-60H453232A021\\n', '306      Part     RIVET-60H453232A021\\n', '28       Part     RIVET-60H453232A021\\n', '132      Part     RIVET-60H453232A021\\n', '30       Part     RIVET-60H453232A021\\n', '16       Part     RIVET-60H453232A021\\n', '16       Part     RIVET-60H453232A021\\n', '4        Part     RIVET-60H453232A021\\n', '4        Part     RIVET-60H453232A021\\n', '9        Part     RIVET-60H453232A021\\n', '32       Part     RIVET-60H453232A021\\n', '84       Part     RIVET-60H453232A021\\n', '4        Part     RIVET-60H453232A021\\n', '4        Part     RIVET-60H453232A021\\n', '8        Part     RIVET-60H453232A021']\n"
     ]
    },
    {
     "data": {
      "text/plain": [
       "1136"
      ]
     },
     "execution_count": 17,
     "metadata": {},
     "output_type": "execute_result"
    }
   ],
   "source": [
    "rows = []\n",
    "with open('junk.txt', 'r', encoding='utf-8-sig') as file_object:\n",
    "    junk = file_object.readlines()\n",
    "    for row in junk:\n",
    "        rows.append(row.strip().split())\n",
    "\n",
    "print(junk)\n",
    "\n",
    "total = 0\n",
    "for row in rows:\n",
    "    total = int(row[0]) + total\n",
    "\n",
    "total\n"
   ]
  },
  {
   "cell_type": "code",
   "execution_count": 20,
   "metadata": {},
   "outputs": [
    {
     "name": "stdout",
     "output_type": "stream",
     "text": [
      "['    84         Part  RIVET-60H453232A021\\n', '     9         Part  RIVET-60H453232A021\\n', '     2         Part  RIVET-60H453232A021\\n', '     4         Part  RIVET-60H453232A021\\n', '     4         Part  RIVET-60H453232A021\\n', '     4         Part  RIVET-60H453232A021\\n', '     4         Part  RIVET-60H453232A021\\n', '    14         Part  RIVET-60H453232A021\\n', '     4         Part  RIVET-60H453232A021\\n', '    91         Part  RIVET-60H453232A021\\n', '    66         Part  RIVET-60H453232A021\\n', '     2         Part  RIVET-60H453232A021\\n', '     4         Part  RIVET-60H453232A021\\n', '     4         Part  RIVET-60H453232A021\\n', '    14         Part  RIVET-60H453232A021\\n', '    15         Part  RIVET-60H453232A021\\n', '     2         Part  RIVET-60H453232A021\\n', '     2         Part  RIVET-60H453232A021\\n', '     2         Part  RIVET-60H453232A021\\n', '    51         Part  RIVET-60H453232A021\\n', '     2         Part  RIVET-60H453232A021\\n', '     4         Part  RIVET-60H453232A021\\n', '     8         Part  RIVET-60H453232A021\\n', '     4         Part  RIVET-60H453232A021\\n', '     3         Part  RIVET-60H453232A021\\n', '     4         Part  RIVET-60H453232A021']\n"
     ]
    },
    {
     "data": {
      "text/plain": [
       "407"
      ]
     },
     "execution_count": 20,
     "metadata": {},
     "output_type": "execute_result"
    }
   ],
   "source": [
    "rows = []\n",
    "with open('junk2.txt', 'r', encoding='utf-8-sig') as file_object:\n",
    "    junk = file_object.readlines()\n",
    "    for row in junk:\n",
    "        rows.append(row.strip().split())\n",
    "\n",
    "print(junk)\n",
    "\n",
    "total = 0\n",
    "for row in rows:\n",
    "    total = int(row[0]) + total\n",
    "\n",
    "total\n"
   ]
  },
  {
   "cell_type": "code",
   "execution_count": 2,
   "metadata": {},
   "outputs": [
    {
     "data": {
      "text/plain": [
       "2"
      ]
     },
     "execution_count": 2,
     "metadata": {},
     "output_type": "execute_result"
    }
   ],
   "source": [
    "a = False\n",
    "if a:\n",
    "    b = 11\n",
    "else:\n",
    "    b = 2\n",
    "b"
   ]
  },
  {
   "cell_type": "code",
   "execution_count": 9,
   "metadata": {},
   "outputs": [
    {
     "name": "stdout",
     "output_type": "stream",
     "text": [
      "True\n"
     ]
    }
   ],
   "source": [
    "def findByName(string, full=False):\n",
    "    '''Search part tree for all unique nodes'''\n",
    "    if full:\n",
    "        partList = True\n",
    "        return partList\n",
    "    else:\n",
    "        partList = False\n",
    "        return partList\n",
    "\n",
    "\n",
    "\n",
    "print(findByName('string', full=True))"
   ]
  }
 ],
 "metadata": {
  "kernelspec": {
   "display_name": "Python 3.10.6 64-bit",
   "language": "python",
   "name": "python3"
  },
  "language_info": {
   "codemirror_mode": {
    "name": "ipython",
    "version": 3
   },
   "file_extension": ".py",
   "mimetype": "text/x-python",
   "name": "python",
   "nbconvert_exporter": "python",
   "pygments_lexer": "ipython3",
   "version": "3.10.6"
  },
  "orig_nbformat": 4,
  "vscode": {
   "interpreter": {
    "hash": "916dbcbb3f70747c44a77c7bcd40155683ae19c65e1c03b4aa3499c5328201f1"
   }
  }
 },
 "nbformat": 4,
 "nbformat_minor": 2
}
